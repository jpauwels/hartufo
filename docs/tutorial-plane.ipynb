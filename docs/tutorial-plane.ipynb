{
 "cells": [
  {
   "cell_type": "markdown",
   "metadata": {},
   "source": [
    "# Tutorial: Using Datasets of Source Positions in a Single Plane"
   ]
  },
  {
   "cell_type": "code",
   "execution_count": null,
   "metadata": {},
   "outputs": [],
   "source": [
    "from hartufo import CipicPlane, AriPlane, ListenPlane, CrossModPlane, BiLiPlane, ItaPlane, HutubsPlane, RiecPlane, Sadie2Plane, Princeton3D3APlane, ChedarPlane, WidespreadPlane, ScutPlane, SonicomPlane\n",
    "import hartufo\n",
    "from pathlib import Path\n",
    "import matplotlib.pyplot as plt\n",
    "import numpy as np"
   ]
  },
  {
   "cell_type": "code",
   "execution_count": null,
   "metadata": {},
   "outputs": [],
   "source": [
    "base_dir = Path('../HRTF Datasets')"
   ]
  },
  {
   "cell_type": "markdown",
   "metadata": {},
   "source": [
    "## The minimum necessary to get started"
   ]
  },
  {
   "cell_type": "markdown",
   "metadata": {},
   "source": [
    "The purpose of `hartufo` is to provide a unified programming interface to multiple collections of HRTF data in a way that is convenient and compatible with all major machine learning toolkits. Currently the following data collections are supported:\n",
    "\n",
    "- CIPIC\n",
    "- ARI\n",
    "- Listen\n",
    "- CrossMod\n",
    "- BiLi\n",
    "- ITA\n",
    "- HUTUBS\n",
    "- RIEC\n",
    "- SADIE II\n",
    "- 3D3A\n",
    "- CHEDAR\n",
    "- Widespread\n",
    "- SCUT\n",
    "- SONICOM\n",
    "\n",
    "Each of them has a corresponding class that can be loaded from `hartufo`, as is done above."
   ]
  },
  {
   "cell_type": "markdown",
   "metadata": {},
   "source": [
    "At minimum, you need to select which plane to use (out of `horizontal`, `median` or `frontal`), the HRIR/HRTF representation (`time`, `magnitude`, `magnitude_db`, `phase` or `complex`) and the side of the head (`left`, `right`, `both`, `both-left`, `both-right`)."
   ]
  },
  {
   "cell_type": "code",
   "execution_count": null,
   "metadata": {},
   "outputs": [],
   "source": [
    "plane = 'median'\n",
    "domain = 'magnitude_db'\n",
    "side = 'left'"
   ]
  },
  {
   "cell_type": "markdown",
   "metadata": {},
   "source": [
    "These parameters can then be used together with an `XPlane` class and the path to the root directory of files for the corresponding collection (having the same directory structure as on the cluster)."
   ]
  },
  {
   "cell_type": "code",
   "execution_count": null,
   "metadata": {},
   "outputs": [],
   "source": [
    "ds = CipicPlane(base_dir / 'CIPIC', plane, domain, side)"
   ]
  },
  {
   "cell_type": "markdown",
   "metadata": {},
   "source": [
    "All `XPlane` types are subclasses of `hartufo.Dataset`."
   ]
  },
  {
   "cell_type": "code",
   "execution_count": null,
   "metadata": {},
   "outputs": [],
   "source": [
    "isinstance(ds, hartufo.Dataset)"
   ]
  },
  {
   "cell_type": "markdown",
   "metadata": {},
   "source": [
    "You can get the size of a dataset and and access its individual datapoints by indexing it."
   ]
  },
  {
   "cell_type": "code",
   "execution_count": null,
   "metadata": {},
   "outputs": [],
   "source": [
    "len(ds)"
   ]
  },
  {
   "cell_type": "code",
   "execution_count": null,
   "metadata": {},
   "outputs": [],
   "source": [
    "p = ds[0]"
   ]
  },
  {
   "cell_type": "markdown",
   "metadata": {},
   "source": [
    "Each datapoint is a dictionary that contains the keys `features`, `target` and `group`."
   ]
  },
  {
   "cell_type": "code",
   "execution_count": null,
   "metadata": {},
   "outputs": [],
   "source": [
    "p.keys()"
   ]
  },
  {
   "cell_type": "markdown",
   "metadata": {},
   "source": [
    "The `features` key returns the HRIR values in the specified plane as a matrix. Each row contains a single HRIR for a certain position in the plane, so the number of rows equals the number of measurement positions in the plane and the number of columns is equal to the lenght of an HRIR."
   ]
  },
  {
   "cell_type": "code",
   "execution_count": null,
   "metadata": {},
   "outputs": [],
   "source": [
    "p['features'].shape"
   ]
  },
  {
   "cell_type": "markdown",
   "metadata": {},
   "source": [
    "The `target` and `group` keys are empty by default and can be ignored for now (more explanation follows in the next tutorial)."
   ]
  },
  {
   "cell_type": "code",
   "execution_count": null,
   "metadata": {},
   "outputs": [],
   "source": [
    "p['target'], p['group']"
   ]
  },
  {
   "cell_type": "markdown",
   "metadata": {},
   "source": [
    "You can also get all the HRTFs of all datapoints at once using the `.features` property of the dataset. It returns a 3D array of dimensions: dataset size x number of positions x HRIR length."
   ]
  },
  {
   "cell_type": "code",
   "execution_count": null,
   "metadata": {},
   "outputs": [],
   "source": [
    "ds.features.shape"
   ]
  },
  {
   "cell_type": "markdown",
   "metadata": {},
   "source": [
    "This minimal data access functionality should suffice to use the `Dataset` classes in combination with all major machine learning frameworks (see separate tutorials for more info), but a lot more functionality is built-in."
   ]
  },
  {
   "cell_type": "markdown",
   "metadata": {},
   "source": [
    "## Additional Dataset Functionality"
   ]
  },
  {
   "cell_type": "markdown",
   "metadata": {},
   "source": [
    "You can get the sample rate of the HRIR:"
   ]
  },
  {
   "cell_type": "code",
   "execution_count": null,
   "metadata": {},
   "outputs": [],
   "source": [
    "ds.hrir_samplerate"
   ]
  },
  {
   "cell_type": "markdown",
   "metadata": {},
   "source": [
    "or the frequencies of the HRTF:"
   ]
  },
  {
   "cell_type": "code",
   "execution_count": null,
   "metadata": {},
   "outputs": [],
   "source": [
    "ds.hrtf_frequencies"
   ]
  },
  {
   "cell_type": "markdown",
   "metadata": {},
   "source": [
    "The angles in the plane can be obtained with:"
   ]
  },
  {
   "cell_type": "code",
   "execution_count": null,
   "metadata": {},
   "outputs": [],
   "source": [
    "ds.plane_angles"
   ]
  },
  {
   "cell_type": "markdown",
   "metadata": {},
   "source": [
    "By default, the interval for the angles is [-180, 180) (horizontal and frontal plane) or [-90, 27) (median plane). Positive angles in the range [0, 360) can be requested by passing `positive_angles=True` to the `XPlane` constructor."
   ]
  },
  {
   "cell_type": "markdown",
   "metadata": {},
   "source": [
    "The angle interval can also be changed after the creation of the dataset, without needing to reload from disk, by setting the `.positive_angles` boolean property."
   ]
  },
  {
   "cell_type": "code",
   "execution_count": null,
   "metadata": {},
   "outputs": [],
   "source": [
    "ds.positive_angles = True\n",
    "ds.plane_angles"
   ]
  },
  {
   "cell_type": "markdown",
   "metadata": {},
   "source": [
    "In all cases, the angle extrema are available as:"
   ]
  },
  {
   "cell_type": "code",
   "execution_count": null,
   "metadata": {},
   "outputs": [],
   "source": [
    "ds.min_angle, ds.max_angle"
   ]
  },
  {
   "cell_type": "markdown",
   "metadata": {},
   "source": [
    "and the name of the angle in the plane can be obtained by:"
   ]
  },
  {
   "cell_type": "code",
   "execution_count": null,
   "metadata": {},
   "outputs": [],
   "source": [
    "ds.plane_angle_name"
   ]
  },
  {
   "cell_type": "markdown",
   "metadata": {},
   "source": [
    "Using this additional info, you could create your own plots, but plotting functionality is also included. You can plot the angles of the plane with the `.plot_angles()` method."
   ]
  },
  {
   "cell_type": "code",
   "execution_count": null,
   "metadata": {},
   "outputs": [],
   "source": [
    "ds.positive_angles = False\n",
    "ds.plot_angles()\n",
    "plt.show()"
   ]
  },
  {
   "cell_type": "markdown",
   "metadata": {},
   "source": [
    "Its complete type signature is `.plot_angles(ax=None, title=None)`, which contains optional arguments to draw on existing Matplotlib `Axes` or to overwrite the default title."
   ]
  },
  {
   "cell_type": "markdown",
   "metadata": {},
   "source": [
    "You can also plot the HRTF of a data point, by passing its index to `.plot_plane()`."
   ]
  },
  {
   "cell_type": "code",
   "execution_count": null,
   "metadata": {},
   "outputs": [],
   "source": [
    "ds.plot_plane(0)\n",
    "plt.show()"
   ]
  },
  {
   "cell_type": "markdown",
   "metadata": {},
   "source": [
    "The type signature of this method is `.plot_plane(idx, ax=None, cmap='viridis', continuous=False, vmin=None, vmax=None, title=None, colorbar=True, log_freq=False)`, which contains quite some optional arguments. The `ax` and `title` options do the same as in `.plot_angles()`. Any [colour map available in Matplotlib](https://matplotlib.org/stable/gallery/color/colormap_reference.html) can be used by passing it to `cmap`. By default the minimum and maximum values of the colour map are set to the minimum and maximum value in the entire dataset, but they can be set using the `vmin` and `vmax` options. The colour bar that is shown by default can be disabled with `colorbar=False`.\n",
    "\n",
    "The plane angles are plotted on a linear scale, so if the sampling of angles is non-uniform, certain angles will be drawn over larger areas in the plot than others. By default, the area up to halfway the next angle is filled with a uniform colour, resulting in a block-like appearance that can be used to visually inspect the distribution of angles in the plane. By passing `continuous=True`, intermediate angle values will be interpolated leading to a smooth picture. For frequency-domain HRTF representations, the option `log_freq=True` can be used to plot frequency on a logarithmic axis. Finally, the Matplotlib `Axes` get returned, allowing for further customisation of the plot.\n",
    "\n",
    "An example demonstrating all these options can be found below."
   ]
  },
  {
   "cell_type": "code",
   "execution_count": null,
   "metadata": {},
   "outputs": [],
   "source": [
    "_, ax = plt.subplots(figsize=(8,8))\n",
    "ax = ds.plot_plane(0, ax=ax, cmap='gray', continuous=True, vmin=-120, vmax=0, title='', colorbar=False, log_freq=True)\n",
    "ax.set_ylim(0.1, 18)\n",
    "plt.show()"
   ]
  },
  {
   "cell_type": "markdown",
   "metadata": {},
   "source": [
    "## Customising Dataset Contents"
   ]
  },
  {
   "cell_type": "markdown",
   "metadata": {},
   "source": [
    "### Selecting specific subjects"
   ]
  },
  {
   "cell_type": "markdown",
   "metadata": {},
   "source": [
    "By default, all available subjects will be loaded into a dataset. A list of ids of the subjects composing the dataset can be obtained as:"
   ]
  },
  {
   "cell_type": "code",
   "execution_count": null,
   "metadata": {},
   "outputs": [],
   "source": [
    "ds.subject_ids"
   ]
  },
  {
   "cell_type": "markdown",
   "metadata": {},
   "source": [
    "In order to make a selection of the subjects, you can pass the `subject_ids` argument to an `XPlane` constructor. It should contain an iterable of subject ids."
   ]
  },
  {
   "cell_type": "code",
   "execution_count": null,
   "metadata": {},
   "outputs": [],
   "source": [
    "ds = CipicPlane(base_dir / 'CIPIC', plane, domain=domain, side=side, subject_ids=(1, 2, 3, 4, 5))"
   ]
  },
  {
   "cell_type": "markdown",
   "metadata": {},
   "source": [
    "If no subject with the given id exists, it gets silently skipped."
   ]
  },
  {
   "cell_type": "code",
   "execution_count": null,
   "metadata": {},
   "outputs": [],
   "source": [
    "ds.subject_ids"
   ]
  },
  {
   "cell_type": "markdown",
   "metadata": {},
   "source": [
    "For any dataset, regardless its contents, you can request the possible subject ids you can pass to the constructor:"
   ]
  },
  {
   "cell_type": "code",
   "execution_count": null,
   "metadata": {},
   "outputs": [],
   "source": [
    "ds.available_subject_ids"
   ]
  },
  {
   "cell_type": "markdown",
   "metadata": {},
   "source": [
    "This makes the following workflow a convenient way to split a dataset into parts. Start by creating an empty data set by passing an empty list or tuple to `subject_ids`, then read `.available_subject_ids` to find out what subjects are available and create another data set with a subset of these ids."
   ]
  },
  {
   "cell_type": "code",
   "execution_count": null,
   "metadata": {},
   "outputs": [],
   "source": [
    "ds = AriPlane(base_dir / 'ARI', plane, domain=domain, side=side, subject_ids=())\n",
    "ds.subject_ids"
   ]
  },
  {
   "cell_type": "markdown",
   "metadata": {},
   "source": [
    "If you just need a single example of a data collection, you can instead pass one of the strings `first`, `last` or `random` to `subject_ids`. The first two deterministically load the first, respectively last, id in the collection, whereas `random` loads a random subject."
   ]
  },
  {
   "cell_type": "code",
   "execution_count": null,
   "metadata": {},
   "outputs": [],
   "source": [
    "ds = AriPlane(base_dir / 'ARI', plane, domain=domain, side=side, subject_ids='first')\n",
    "ds.subject_ids"
   ]
  },
  {
   "cell_type": "code",
   "execution_count": null,
   "metadata": {},
   "outputs": [],
   "source": [
    "ds = AriPlane(base_dir / 'ARI', plane, domain=domain, side=side, subject_ids='last')\n",
    "ds.subject_ids"
   ]
  },
  {
   "cell_type": "code",
   "execution_count": null,
   "metadata": {},
   "outputs": [],
   "source": [
    "ds = AriPlane(base_dir / 'ARI', plane, domain=domain, side=side, subject_ids='random')\n",
    "ds.subject_ids"
   ]
  },
  {
   "cell_type": "markdown",
   "metadata": {},
   "source": [
    "### Selecting specific measurement positions"
   ]
  },
  {
   "cell_type": "markdown",
   "metadata": {},
   "source": [
    "Likewise, instead of loading all measurement positions in the plane, a selection can be made by passing a `plane_angles` argument to the constructor."
   ]
  },
  {
   "cell_type": "code",
   "execution_count": null,
   "metadata": {},
   "outputs": [],
   "source": [
    "ds = AriPlane(base_dir / 'ARI', plane, domain=domain, side=side, subject_ids='random', plane_angles=(0, 3.14, 10, 20, 30))\n",
    "ds.plane_angles"
   ]
  },
  {
   "cell_type": "markdown",
   "metadata": {},
   "source": [
    "Missing plane angles get silently skipped as well."
   ]
  },
  {
   "cell_type": "markdown",
   "metadata": {},
   "source": [
    "If only a small number of measurement angles are selected, an alternative visualisation using a lineplot instead of a heatmap can be produced by passing `lineplot=True` to the `.plot_plane()` method."
   ]
  },
  {
   "cell_type": "code",
   "execution_count": null,
   "metadata": {},
   "outputs": [],
   "source": [
    "ds.plot_plane(0, lineplot=True)"
   ]
  },
  {
   "cell_type": "markdown",
   "metadata": {},
   "source": [
    "### Customising numeric precision"
   ]
  },
  {
   "cell_type": "markdown",
   "metadata": {},
   "source": [
    "By default, the HRIR/HRTF values get stored as `np.float32`s. You can however change it by passing a `dtype` argument to the `XPlane` constructor."
   ]
  },
  {
   "cell_type": "code",
   "execution_count": null,
   "metadata": {},
   "outputs": [],
   "source": [
    "ds = AriPlane(base_dir / 'ARI', plane, domain=domain, side=side, subject_ids='first', dtype=np.float64)\n",
    "ds[0]['features'].dtype"
   ]
  },
  {
   "cell_type": "markdown",
   "metadata": {},
   "source": [
    "When requesting an HRTF in the `complex` domain, it is necessary to specify a complex dtype, otherwise an error will be thrown."
   ]
  },
  {
   "cell_type": "code",
   "execution_count": null,
   "metadata": {},
   "outputs": [],
   "source": [
    "try:\n",
    "    ds = AriPlane(base_dir / 'ARI', plane, domain='complex', side=side, subject_ids='first')\n",
    "except ValueError as e:\n",
    "    print(e)"
   ]
  },
  {
   "cell_type": "code",
   "execution_count": null,
   "metadata": {},
   "outputs": [],
   "source": [
    "ds = AriPlane(base_dir / 'ARI', plane, domain='complex', side=side, subject_ids='first', dtype=np.complex64)\n",
    "ds[0]['features'].dtype"
   ]
  },
  {
   "cell_type": "markdown",
   "metadata": {},
   "source": [
    "## Illustrative example"
   ]
  },
  {
   "cell_type": "markdown",
   "metadata": {},
   "source": [
    "As a concluding example, the snippet below plots the angular distribution and an example HRTF of all available data collections for each of the three principal planes."
   ]
  },
  {
   "cell_type": "code",
   "execution_count": null,
   "metadata": {},
   "outputs": [],
   "source": [
    "domain = 'magnitude_db'\n",
    "side = 'left'\n",
    "positive_angles = False\n",
    "subject_ids = 'first'\n",
    "\n",
    "for collection, data_dir in [\n",
    "    (CipicPlane, base_dir / 'CIPIC'),\n",
    "    (AriPlane, base_dir / 'ARI'),\n",
    "    (ListenPlane, base_dir / 'Ircam Listen'),\n",
    "    (CrossModPlane, base_dir / 'Ircam CrossMod'),\n",
    "    (BiLiPlane, base_dir / 'Ircam BiLi'),\n",
    "    (ItaPlane, base_dir / 'ITA'), \n",
    "    (HutubsPlane, base_dir / 'HUTUBS'),\n",
    "    (RiecPlane, base_dir / 'RIEC'),\n",
    "    (Sadie2Plane, base_dir / 'SADIE II'),\n",
    "    (Princeton3D3APlane, base_dir / '3D3A'),\n",
    "    (ChedarPlane, base_dir / 'CHEDAR'),\n",
    "    (WidespreadPlane, base_dir / 'Widespread'),\n",
    "    (ScutPlane, base_dir / 'SCUT'),\n",
    "    (SonicomPlane, base_dir / 'SONICOM'),\n",
    "]:\n",
    "    fig = plt.figure(figsize=(16, 18))\n",
    "    fig.suptitle(collection.__name__)\n",
    "    for idx, plane in enumerate(('horizontal', 'median', 'frontal')):\n",
    "        plane_offset = -0.72 if collection == ItaPlane and plane == 'horizontal' else 0\n",
    "        ds = collection(data_dir, plane, plane_offset=plane_offset, domain=domain, side=side, positive_angles=positive_angles, subject_ids=subject_ids)\n",
    "        ax0 = fig.add_subplot(3, 2, 2*idx+1, projection='polar')\n",
    "        ax1 = fig.add_subplot(3, 2, 2*idx+2)\n",
    "        if domain.startswith('magnitude'):\n",
    "            ax1.set_ylim((0, 18))\n",
    "        elif domain == 'time':\n",
    "            ax1.set_ylim((0, 3))\n",
    "        ds.plot_angles(ax=ax0)\n",
    "        ds.plot_plane(0, ax=ax1, continuous=False, log_freq=False)\n",
    "    plt.show()"
   ]
  },
  {
   "cell_type": "markdown",
   "metadata": {},
   "source": []
  }
 ],
 "metadata": {
  "kernelspec": {
   "display_name": "Python 3 (ipykernel)",
   "language": "python",
   "name": "python3"
  },
  "language_info": {
   "codemirror_mode": {
    "name": "ipython",
    "version": 3
   },
   "file_extension": ".py",
   "mimetype": "text/x-python",
   "name": "python",
   "nbconvert_exporter": "python",
   "pygments_lexer": "ipython3",
   "version": "3.10.8"
  },
  "vscode": {
   "interpreter": {
    "hash": "e6da6f4d86ef4f519a6c275da41ee9fe88a8dc4690964d65fd688f7f44823bf0"
   }
  }
 },
 "nbformat": 4,
 "nbformat_minor": 4
}
